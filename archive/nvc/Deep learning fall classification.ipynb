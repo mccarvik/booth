{
 "cells": [
  {
   "cell_type": "markdown",
   "metadata": {},
   "source": [
    "# Deep learning fall classification"
   ]
  },
  {
   "cell_type": "markdown",
   "metadata": {},
   "source": [
    "## Loading libraries and datasets"
   ]
  },
  {
   "cell_type": "code",
   "execution_count": 1,
   "metadata": {},
   "outputs": [],
   "source": [
    "import tensorflow as tf\n",
    "import pandas as pd\n",
    "import numpy as np"
   ]
  },
  {
   "cell_type": "code",
   "execution_count": 2,
   "metadata": {},
   "outputs": [],
   "source": [
    "train_df = pd.read_csv(\"train_fall_df.csv\")\n",
    "validation_df = pd.read_csv(\"validation_fall_df.csv\")\n",
    "test_df = pd.read_csv(\"test_fall_df.csv\")"
   ]
  },
  {
   "cell_type": "markdown",
   "metadata": {},
   "source": [
    "## Data preparation"
   ]
  },
  {
   "cell_type": "markdown",
   "metadata": {},
   "source": [
    "### One-hot encoding handedness"
   ]
  },
  {
   "cell_type": "code",
   "execution_count": 3,
   "metadata": {},
   "outputs": [],
   "source": [
    "train_df['Dominant_hand'] = pd.Series(np.where(train_df['Dominant_hand']== 'yes', 1, 0), train_df.index)\n",
    "validation_df['Dominant_hand'] = pd.Series(np.where(validation_df['Dominant_hand']== 'yes', 1, 0), validation_df.index)\n",
    "test_df['Dominant_hand'] = pd.Series(np.where(test_df['Dominant_hand']== 'yes', 1, 0), test_df.index)"
   ]
  },
  {
   "cell_type": "markdown",
   "metadata": {},
   "source": [
    "### Converting data into numpy arrays"
   ]
  },
  {
   "cell_type": "code",
   "execution_count": 4,
   "metadata": {},
   "outputs": [],
   "source": [
    "X_train = train_df.drop(['Fall'], axis = 1)\n",
    "X_train = np.array(X_train, np.float32)\n",
    "y_train = train_df['Fall']\n",
    "y_train = np.asarray(y_train).astype('float32').reshape((-1,1))\n",
    "\n",
    "X_validation = validation_df.drop(['Fall'], axis = 1)\n",
    "X_validation = np.array(X_validation, np.float32)\n",
    "y_validation = validation_df['Fall']\n",
    "y_validation = np.asarray(y_validation).astype('float32').reshape((-1,1))\n",
    "\n",
    "X_test = test_df.drop(['Fall'], axis = 1)\n",
    "X_test = np.array(X_test, np.float32)\n",
    "y_test = test_df['Fall']\n",
    "y_test = np.asarray(y_test).astype('float32').reshape((-1,1))\n"
   ]
  },
  {
   "cell_type": "markdown",
   "metadata": {},
   "source": [
    "## Modeling"
   ]
  },
  {
   "cell_type": "markdown",
   "metadata": {},
   "source": [
    "#### Neural Net architecture"
   ]
  },
  {
   "cell_type": "code",
   "execution_count": 5,
   "metadata": {},
   "outputs": [],
   "source": [
    "#input layer\n",
    "inputs = tf.keras.Input(shape=(10,))\n",
    "\n",
    "#hidden layer 1\n",
    "layer1 = tf.keras.layers.Dense(128, activation = 'relu')(inputs)\n",
    "\n",
    "#dropout layer\n",
    "dropout = tf.keras.layers.Dropout(0.25)(layer1)\n",
    "\n",
    "#hidden layer 2\n",
    "layer2 = tf.keras.layers.Dense(128, activation = 'relu')(dropout)\n",
    "\n",
    "#output\n",
    "output = tf.keras.layers.Dense(1, activation = 'sigmoid')(layer2)"
   ]
  },
  {
   "cell_type": "code",
   "execution_count": 6,
   "metadata": {},
   "outputs": [],
   "source": [
    "model = tf.keras.Model(inputs=inputs, outputs=output)\n",
    "model.compile('adam', loss='binary_crossentropy', metrics = ['Recall','Precision'])"
   ]
  },
  {
   "cell_type": "markdown",
   "metadata": {},
   "source": [
    "#### Tuning model on validation set"
   ]
  },
  {
   "cell_type": "code",
   "execution_count": 7,
   "metadata": {},
   "outputs": [
    {
     "name": "stdout",
     "output_type": "stream",
     "text": [
      "Epoch 1/10\n",
      "WARNING:tensorflow:From /home/iparakati/miniconda3/envs/tf-gpu/lib/python3.8/site-packages/tensorflow/python/ops/resource_variable_ops.py:1813: calling BaseResourceVariable.__init__ (from tensorflow.python.ops.resource_variable_ops) with constraint is deprecated and will be removed in a future version.\n",
      "Instructions for updating:\n",
      "If using Keras pass *_constraint arguments to layers.\n",
      "3087/3087 [==============================] - 37s 12ms/step - loss: 1.4829 - recall: 0.4645 - precision: 0.5330 - val_loss: 0.6564 - val_recall: 0.5301 - val_precision: 0.6125\n",
      "Epoch 2/10\n",
      "3087/3087 [==============================] - 33s 11ms/step - loss: 0.6385 - recall: 0.5008 - precision: 0.6128 - val_loss: 0.6287 - val_recall: 0.5937 - val_precision: 0.6118\n",
      "Epoch 3/10\n",
      "3087/3087 [==============================] - 33s 11ms/step - loss: 0.6006 - recall: 0.6023 - precision: 0.6250 - val_loss: 0.6020 - val_recall: 0.4849 - val_precision: 0.6455\n",
      "Epoch 4/10\n",
      "3087/3087 [==============================] - 34s 11ms/step - loss: 0.5803 - recall: 0.7228 - precision: 0.6206 - val_loss: 0.5920 - val_recall: 0.6145 - val_precision: 0.6359\n",
      "Epoch 5/10\n",
      "3087/3087 [==============================] - 34s 11ms/step - loss: 0.5641 - recall: 0.7649 - precision: 0.6275 - val_loss: 0.5777 - val_recall: 0.7049 - val_precision: 0.6613\n",
      "Epoch 6/10\n",
      "3087/3087 [==============================] - 35s 11ms/step - loss: 0.5480 - recall: 0.8030 - precision: 0.6405 - val_loss: 0.5435 - val_recall: 0.8524 - val_precision: 0.6815\n",
      "Epoch 7/10\n",
      "3087/3087 [==============================] - 34s 11ms/step - loss: 0.5385 - recall: 0.8275 - precision: 0.6469 - val_loss: 0.5978 - val_recall: 0.8685 - val_precision: 0.5842\n",
      "Epoch 8/10\n",
      "3087/3087 [==============================] - 33s 11ms/step - loss: 0.5306 - recall: 0.8243 - precision: 0.6494 - val_loss: 0.5443 - val_recall: 0.8263 - val_precision: 0.6905\n",
      "Epoch 9/10\n",
      "3087/3087 [==============================] - 34s 11ms/step - loss: 0.5182 - recall: 0.8437 - precision: 0.6603 - val_loss: 0.5232 - val_recall: 0.8402 - val_precision: 0.6944\n",
      "Epoch 10/10\n",
      "3087/3087 [==============================] - 34s 11ms/step - loss: 0.5171 - recall: 0.8347 - precision: 0.6578 - val_loss: 0.5342 - val_recall: 0.7894 - val_precision: 0.7115\n"
     ]
    },
    {
     "data": {
      "text/plain": [
       "<tensorflow.python.keras.callbacks.History at 0x7f6b70b12280>"
      ]
     },
     "execution_count": 7,
     "metadata": {},
     "output_type": "execute_result"
    }
   ],
   "source": [
    "model.fit(X_train, y_train, epochs=10, validation_data = (X_validation, y_validation))"
   ]
  },
  {
   "cell_type": "markdown",
   "metadata": {},
   "source": [
    "Evaluating on tuned model on test set."
   ]
  },
  {
   "cell_type": "code",
   "execution_count": 8,
   "metadata": {},
   "outputs": [
    {
     "name": "stdout",
     "output_type": "stream",
     "text": [
      "3065/3065 [==============================] - 16s 5ms/step - loss: 0.5154 - recall: 0.8002 - precision: 0.7199\n"
     ]
    },
    {
     "data": {
      "text/plain": [
       "[0.5154051184654236, 0.8002414107322693, 0.7199360132217407]"
      ]
     },
     "execution_count": 8,
     "metadata": {},
     "output_type": "execute_result"
    }
   ],
   "source": [
    "model.evaluate(X_test, y_test)"
   ]
  },
  {
   "cell_type": "code",
   "execution_count": null,
   "metadata": {},
   "outputs": [],
   "source": []
  }
 ],
 "metadata": {
  "kernelspec": {
   "display_name": "Python 3",
   "language": "python",
   "name": "python3"
  },
  "language_info": {
   "codemirror_mode": {
    "name": "ipython",
    "version": 3
   },
   "file_extension": ".py",
   "mimetype": "text/x-python",
   "name": "python",
   "nbconvert_exporter": "python",
   "pygments_lexer": "ipython3",
   "version": "3.8.5"
  }
 },
 "nbformat": 4,
 "nbformat_minor": 4
}
